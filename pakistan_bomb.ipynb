{
 "cells": [
  {
   "cell_type": "code",
   "execution_count": 1,
   "id": "0fe746c6-6c6a-4ac7-8fc3-47a75cab8a75",
   "metadata": {},
   "outputs": [],
   "source": [
    "import pandas as pd\n",
    "import numpy as np\n",
    "import seaborn as sns \n",
    "import matplotlib.pyplot as plt\n"
   ]
  },
  {
   "cell_type": "code",
   "execution_count": 3,
   "id": "0779fbec-daa9-496c-93a8-6f2e4c2d3451",
   "metadata": {},
   "outputs": [
    {
     "data": {
      "text/html": [
       "<div>\n",
       "<style scoped>\n",
       "    .dataframe tbody tr th:only-of-type {\n",
       "        vertical-align: middle;\n",
       "    }\n",
       "\n",
       "    .dataframe tbody tr th {\n",
       "        vertical-align: top;\n",
       "    }\n",
       "\n",
       "    .dataframe thead th {\n",
       "        text-align: right;\n",
       "    }\n",
       "</style>\n",
       "<table border=\"1\" class=\"dataframe\">\n",
       "  <thead>\n",
       "    <tr style=\"text-align: right;\">\n",
       "      <th></th>\n",
       "      <th>Date</th>\n",
       "      <th>Islamic Date</th>\n",
       "      <th>Blast Day Type</th>\n",
       "      <th>Holiday Type</th>\n",
       "      <th>Time</th>\n",
       "      <th>City</th>\n",
       "      <th>Latitude</th>\n",
       "      <th>Longitude</th>\n",
       "      <th>Province</th>\n",
       "      <th>Location</th>\n",
       "      <th>...</th>\n",
       "      <th>Targeted Sect if any</th>\n",
       "      <th>Killed Min</th>\n",
       "      <th>Killed Max</th>\n",
       "      <th>Injured Min</th>\n",
       "      <th>Injured Max</th>\n",
       "      <th>No. of Suicide Blasts</th>\n",
       "      <th>Explosive Weight (max)</th>\n",
       "      <th>Hospital Names</th>\n",
       "      <th>Temperature(C)</th>\n",
       "      <th>Temperature(F)</th>\n",
       "    </tr>\n",
       "  </thead>\n",
       "  <tbody>\n",
       "    <tr>\n",
       "      <th>0</th>\n",
       "      <td>Sunday-November 19-1995</td>\n",
       "      <td>25 Jumaada al-THaany 1416 A.H</td>\n",
       "      <td>Holiday</td>\n",
       "      <td>Weekend</td>\n",
       "      <td>NaN</td>\n",
       "      <td>Islamabad</td>\n",
       "      <td>33.718000</td>\n",
       "      <td>73.0718</td>\n",
       "      <td>Capital</td>\n",
       "      <td>Egyptian Embassy</td>\n",
       "      <td>...</td>\n",
       "      <td>NaN</td>\n",
       "      <td>14.0</td>\n",
       "      <td>15.0</td>\n",
       "      <td>NaN</td>\n",
       "      <td>60</td>\n",
       "      <td>2.0</td>\n",
       "      <td>NaN</td>\n",
       "      <td>NaN</td>\n",
       "      <td>15.835</td>\n",
       "      <td>60.503</td>\n",
       "    </tr>\n",
       "    <tr>\n",
       "      <th>1</th>\n",
       "      <td>Monday-November 6-2000</td>\n",
       "      <td>10 SHa`baan 1421 A.H</td>\n",
       "      <td>Working Day</td>\n",
       "      <td>NaN</td>\n",
       "      <td>NaN</td>\n",
       "      <td>Karachi</td>\n",
       "      <td>24.991800</td>\n",
       "      <td>66.9911</td>\n",
       "      <td>Sindh</td>\n",
       "      <td>office of Nawa-e-Waqt</td>\n",
       "      <td>...</td>\n",
       "      <td>NaN</td>\n",
       "      <td>NaN</td>\n",
       "      <td>3.0</td>\n",
       "      <td>NaN</td>\n",
       "      <td>3</td>\n",
       "      <td>1.0</td>\n",
       "      <td>NaN</td>\n",
       "      <td>NaN</td>\n",
       "      <td>23.770</td>\n",
       "      <td>74.786</td>\n",
       "    </tr>\n",
       "    <tr>\n",
       "      <th>2</th>\n",
       "      <td>Wednesday-May 8-2002</td>\n",
       "      <td>25 safar 1423 A.H</td>\n",
       "      <td>Working Day</td>\n",
       "      <td>NaN</td>\n",
       "      <td>7:45 AM</td>\n",
       "      <td>Karachi</td>\n",
       "      <td>24.991800</td>\n",
       "      <td>66.9911</td>\n",
       "      <td>Sindh</td>\n",
       "      <td>Pakistan Navy bus Parked outside Five Star She...</td>\n",
       "      <td>...</td>\n",
       "      <td>Christian</td>\n",
       "      <td>13.0</td>\n",
       "      <td>15.0</td>\n",
       "      <td>20.0</td>\n",
       "      <td>40</td>\n",
       "      <td>1.0</td>\n",
       "      <td>2.5 Kg</td>\n",
       "      <td>1.Jinnah Postgraduate Medical Center 2. Civil ...</td>\n",
       "      <td>31.460</td>\n",
       "      <td>88.628</td>\n",
       "    </tr>\n",
       "    <tr>\n",
       "      <th>3</th>\n",
       "      <td>Friday-June 14-2002</td>\n",
       "      <td>3 Raby` al-THaany 1423 A.H</td>\n",
       "      <td>Working Day</td>\n",
       "      <td>NaN</td>\n",
       "      <td>11:10:00 AM</td>\n",
       "      <td>Karachi</td>\n",
       "      <td>24.991800</td>\n",
       "      <td>66.9911</td>\n",
       "      <td>Sindh</td>\n",
       "      <td>US Consulate Civil Lines Area</td>\n",
       "      <td>...</td>\n",
       "      <td>Christian</td>\n",
       "      <td>NaN</td>\n",
       "      <td>12.0</td>\n",
       "      <td>NaN</td>\n",
       "      <td>51</td>\n",
       "      <td>1.0</td>\n",
       "      <td>NaN</td>\n",
       "      <td>NaN</td>\n",
       "      <td>31.430</td>\n",
       "      <td>88.574</td>\n",
       "    </tr>\n",
       "    <tr>\n",
       "      <th>4</th>\n",
       "      <td>Friday-July 4-2003</td>\n",
       "      <td>4 Jumaada al-awal 1424 A.H</td>\n",
       "      <td>Working Day</td>\n",
       "      <td>NaN</td>\n",
       "      <td>NaN</td>\n",
       "      <td>Quetta</td>\n",
       "      <td>30.209500</td>\n",
       "      <td>67.0182</td>\n",
       "      <td>Baluchistan</td>\n",
       "      <td>Imambargah MeCongy Road Quetta</td>\n",
       "      <td>...</td>\n",
       "      <td>Shiite</td>\n",
       "      <td>44.0</td>\n",
       "      <td>47.0</td>\n",
       "      <td>NaN</td>\n",
       "      <td>65</td>\n",
       "      <td>1.0</td>\n",
       "      <td>NaN</td>\n",
       "      <td>1.CMH Quetta \\n2.Civil Hospital 3. Boland Medi...</td>\n",
       "      <td>33.120</td>\n",
       "      <td>91.616</td>\n",
       "    </tr>\n",
       "    <tr>\n",
       "      <th>...</th>\n",
       "      <td>...</td>\n",
       "      <td>...</td>\n",
       "      <td>...</td>\n",
       "      <td>...</td>\n",
       "      <td>...</td>\n",
       "      <td>...</td>\n",
       "      <td>...</td>\n",
       "      <td>...</td>\n",
       "      <td>...</td>\n",
       "      <td>...</td>\n",
       "      <td>...</td>\n",
       "      <td>...</td>\n",
       "      <td>...</td>\n",
       "      <td>...</td>\n",
       "      <td>...</td>\n",
       "      <td>...</td>\n",
       "      <td>...</td>\n",
       "      <td>...</td>\n",
       "      <td>...</td>\n",
       "      <td>...</td>\n",
       "      <td>...</td>\n",
       "    </tr>\n",
       "    <tr>\n",
       "      <th>983</th>\n",
       "      <td>Monday-July-17-2017</td>\n",
       "      <td>22 Shawaal 1432 A.H</td>\n",
       "      <td>Working Day</td>\n",
       "      <td>NaN</td>\n",
       "      <td>NaN</td>\n",
       "      <td>Peshawar</td>\n",
       "      <td>34.015000</td>\n",
       "      <td>71.5805</td>\n",
       "      <td>KPK</td>\n",
       "      <td>near the Afghan border</td>\n",
       "      <td>...</td>\n",
       "      <td>NaN</td>\n",
       "      <td>1.0</td>\n",
       "      <td>2.0</td>\n",
       "      <td>1.0</td>\n",
       "      <td>7</td>\n",
       "      <td>1.0</td>\n",
       "      <td>NaN</td>\n",
       "      <td>NaN</td>\n",
       "      <td>37.000</td>\n",
       "      <td>98.000</td>\n",
       "    </tr>\n",
       "    <tr>\n",
       "      <th>984</th>\n",
       "      <td>Monday-July-17-2017</td>\n",
       "      <td>22 Shawaal 1432 A.H</td>\n",
       "      <td>Working Day</td>\n",
       "      <td>NaN</td>\n",
       "      <td>NaN</td>\n",
       "      <td>Peshawar</td>\n",
       "      <td>34.015000</td>\n",
       "      <td>71.5805</td>\n",
       "      <td>KPK</td>\n",
       "      <td>southwestern Chaman province</td>\n",
       "      <td>...</td>\n",
       "      <td>NaN</td>\n",
       "      <td>1.0</td>\n",
       "      <td>1.0</td>\n",
       "      <td>1.0</td>\n",
       "      <td>1</td>\n",
       "      <td>1.0</td>\n",
       "      <td>NaN</td>\n",
       "      <td>NaN</td>\n",
       "      <td>37.000</td>\n",
       "      <td>98.000</td>\n",
       "    </tr>\n",
       "    <tr>\n",
       "      <th>985</th>\n",
       "      <td>Monday-July-24-2017</td>\n",
       "      <td>29 Shawaal 1432 A.H</td>\n",
       "      <td>Working Day</td>\n",
       "      <td>NaN</td>\n",
       "      <td>3:55pm</td>\n",
       "      <td>Lahore</td>\n",
       "      <td>31.500875</td>\n",
       "      <td>74.33312</td>\n",
       "      <td>Punjab</td>\n",
       "      <td>near Arfa Karim IT Tower Ferozepur Road</td>\n",
       "      <td>...</td>\n",
       "      <td>NaN</td>\n",
       "      <td>26.0</td>\n",
       "      <td>27.0</td>\n",
       "      <td>56.0</td>\n",
       "      <td>56</td>\n",
       "      <td>1.0</td>\n",
       "      <td>NaN</td>\n",
       "      <td>Jinnah Hospital, General Hospital, Ittefaq Hos...</td>\n",
       "      <td>32.000</td>\n",
       "      <td>88.000</td>\n",
       "    </tr>\n",
       "    <tr>\n",
       "      <th>986</th>\n",
       "      <td>Saturday-August-12-2017</td>\n",
       "      <td>NaN</td>\n",
       "      <td>Weekend</td>\n",
       "      <td>NaN</td>\n",
       "      <td>5:00PM</td>\n",
       "      <td>Quetta</td>\n",
       "      <td>30.203658</td>\n",
       "      <td>67.004469</td>\n",
       "      <td>Balochistan</td>\n",
       "      <td>Pishin bus stop</td>\n",
       "      <td>...</td>\n",
       "      <td>NaN</td>\n",
       "      <td>15.0</td>\n",
       "      <td>15.0</td>\n",
       "      <td>40.0</td>\n",
       "      <td>40</td>\n",
       "      <td>1.0</td>\n",
       "      <td>25KG</td>\n",
       "      <td>NaN</td>\n",
       "      <td>29.000</td>\n",
       "      <td>NaN</td>\n",
       "    </tr>\n",
       "    <tr>\n",
       "      <th>987</th>\n",
       "      <td>Thursday-October-05-2017</td>\n",
       "      <td>NaN</td>\n",
       "      <td>NaN</td>\n",
       "      <td>NaN</td>\n",
       "      <td>NaN</td>\n",
       "      <td>Quetta</td>\n",
       "      <td>28.571051</td>\n",
       "      <td>67.496895</td>\n",
       "      <td>Balochistan</td>\n",
       "      <td>Fateh Pur Shrine in Jhal Magsi village</td>\n",
       "      <td>...</td>\n",
       "      <td>NaN</td>\n",
       "      <td>21.0</td>\n",
       "      <td>22.0</td>\n",
       "      <td>25.0</td>\n",
       "      <td>NaN</td>\n",
       "      <td>1.0</td>\n",
       "      <td>NaN</td>\n",
       "      <td>Larkana Hospital, Gandawah District Headquarte...</td>\n",
       "      <td>27.800</td>\n",
       "      <td>81.000</td>\n",
       "    </tr>\n",
       "  </tbody>\n",
       "</table>\n",
       "<p>988 rows × 25 columns</p>\n",
       "</div>"
      ],
      "text/plain": [
       "                         Date                   Islamic Date Blast Day Type  \\\n",
       "0     Sunday-November 19-1995  25 Jumaada al-THaany 1416 A.H        Holiday   \n",
       "1      Monday-November 6-2000           10 SHa`baan 1421 A.H    Working Day   \n",
       "2        Wednesday-May 8-2002              25 safar 1423 A.H    Working Day   \n",
       "3         Friday-June 14-2002     3 Raby` al-THaany 1423 A.H    Working Day   \n",
       "4          Friday-July 4-2003     4 Jumaada al-awal 1424 A.H    Working Day   \n",
       "..                        ...                            ...            ...   \n",
       "983       Monday-July-17-2017            22 Shawaal 1432 A.H    Working Day   \n",
       "984       Monday-July-17-2017            22 Shawaal 1432 A.H    Working Day   \n",
       "985       Monday-July-24-2017            29 Shawaal 1432 A.H    Working Day   \n",
       "986   Saturday-August-12-2017                            NaN        Weekend   \n",
       "987  Thursday-October-05-2017                            NaN            NaN   \n",
       "\n",
       "    Holiday Type         Time       City   Latitude  Longitude     Province  \\\n",
       "0        Weekend          NaN  Islamabad  33.718000    73.0718      Capital   \n",
       "1            NaN          NaN    Karachi  24.991800    66.9911        Sindh   \n",
       "2            NaN      7:45 AM   Karachi   24.991800    66.9911        Sindh   \n",
       "3            NaN  11:10:00 AM    Karachi  24.991800    66.9911        Sindh   \n",
       "4            NaN          NaN     Quetta  30.209500    67.0182  Baluchistan   \n",
       "..           ...          ...        ...        ...        ...          ...   \n",
       "983          NaN          NaN   Peshawar  34.015000    71.5805          KPK   \n",
       "984          NaN          NaN   Peshawar  34.015000    71.5805          KPK   \n",
       "985          NaN       3:55pm     Lahore  31.500875   74.33312       Punjab   \n",
       "986          NaN       5:00PM     Quetta  30.203658  67.004469  Balochistan   \n",
       "987          NaN          NaN     Quetta  28.571051  67.496895  Balochistan   \n",
       "\n",
       "                                              Location  ...  \\\n",
       "0                                     Egyptian Embassy  ...   \n",
       "1                                office of Nawa-e-Waqt  ...   \n",
       "2    Pakistan Navy bus Parked outside Five Star She...  ...   \n",
       "3                       US Consulate Civil Lines Area   ...   \n",
       "4                       Imambargah MeCongy Road Quetta  ...   \n",
       "..                                                 ...  ...   \n",
       "983                             near the Afghan border  ...   \n",
       "984                       southwestern Chaman province  ...   \n",
       "985            near Arfa Karim IT Tower Ferozepur Road  ...   \n",
       "986                                    Pishin bus stop  ...   \n",
       "987             Fateh Pur Shrine in Jhal Magsi village  ...   \n",
       "\n",
       "    Targeted Sect if any Killed Min Killed Max Injured Min Injured Max  \\\n",
       "0                    NaN       14.0       15.0         NaN          60   \n",
       "1                    NaN        NaN        3.0         NaN           3   \n",
       "2              Christian       13.0       15.0        20.0          40   \n",
       "3              Christian        NaN       12.0         NaN          51   \n",
       "4                 Shiite       44.0       47.0         NaN          65   \n",
       "..                   ...        ...        ...         ...         ...   \n",
       "983                  NaN        1.0        2.0         1.0           7   \n",
       "984                  NaN        1.0        1.0         1.0           1   \n",
       "985                  NaN       26.0       27.0        56.0          56   \n",
       "986                  NaN       15.0       15.0        40.0          40   \n",
       "987                  NaN       21.0       22.0        25.0         NaN   \n",
       "\n",
       "    No. of Suicide Blasts  Explosive Weight (max)  \\\n",
       "0                     2.0                     NaN   \n",
       "1                     1.0                     NaN   \n",
       "2                     1.0                  2.5 Kg   \n",
       "3                     1.0                     NaN   \n",
       "4                     1.0                     NaN   \n",
       "..                    ...                     ...   \n",
       "983                   1.0                     NaN   \n",
       "984                   1.0                     NaN   \n",
       "985                   1.0                     NaN   \n",
       "986                   1.0                    25KG   \n",
       "987                   1.0                     NaN   \n",
       "\n",
       "                                        Hospital Names  Temperature(C)  \\\n",
       "0                                                  NaN          15.835   \n",
       "1                                                  NaN          23.770   \n",
       "2    1.Jinnah Postgraduate Medical Center 2. Civil ...          31.460   \n",
       "3                                                  NaN          31.430   \n",
       "4    1.CMH Quetta \\n2.Civil Hospital 3. Boland Medi...          33.120   \n",
       "..                                                 ...             ...   \n",
       "983                                                NaN          37.000   \n",
       "984                                                NaN          37.000   \n",
       "985  Jinnah Hospital, General Hospital, Ittefaq Hos...          32.000   \n",
       "986                                                NaN          29.000   \n",
       "987  Larkana Hospital, Gandawah District Headquarte...          27.800   \n",
       "\n",
       "    Temperature(F)  \n",
       "0           60.503  \n",
       "1           74.786  \n",
       "2           88.628  \n",
       "3           88.574  \n",
       "4           91.616  \n",
       "..             ...  \n",
       "983         98.000  \n",
       "984         98.000  \n",
       "985         88.000  \n",
       "986            NaN  \n",
       "987         81.000  \n",
       "\n",
       "[988 rows x 25 columns]"
      ]
     },
     "execution_count": 3,
     "metadata": {},
     "output_type": "execute_result"
    }
   ],
   "source": [
    "df = pd.read_csv(r\"C:\\Users\\ATOnile\\Downloads\\Suicide_bombing_attacks.csv\")\n",
    "df"
   ]
  },
  {
   "cell_type": "code",
   "execution_count": 5,
   "id": "009b5da7-27fd-4d5e-bb6b-fac5d9dab5f5",
   "metadata": {},
   "outputs": [
    {
     "data": {
      "text/html": [
       "<div>\n",
       "<style scoped>\n",
       "    .dataframe tbody tr th:only-of-type {\n",
       "        vertical-align: middle;\n",
       "    }\n",
       "\n",
       "    .dataframe tbody tr th {\n",
       "        vertical-align: top;\n",
       "    }\n",
       "\n",
       "    .dataframe thead th {\n",
       "        text-align: right;\n",
       "    }\n",
       "</style>\n",
       "<table border=\"1\" class=\"dataframe\">\n",
       "  <thead>\n",
       "    <tr style=\"text-align: right;\">\n",
       "      <th></th>\n",
       "      <th>Date</th>\n",
       "      <th>Islamic Date</th>\n",
       "      <th>Blast Day Type</th>\n",
       "      <th>Holiday Type</th>\n",
       "      <th>Time</th>\n",
       "      <th>City</th>\n",
       "      <th>Latitude</th>\n",
       "      <th>Longitude</th>\n",
       "      <th>Province</th>\n",
       "      <th>Location</th>\n",
       "      <th>...</th>\n",
       "      <th>Targeted Sect if any</th>\n",
       "      <th>Killed Min</th>\n",
       "      <th>Killed Max</th>\n",
       "      <th>Injured Min</th>\n",
       "      <th>Injured Max</th>\n",
       "      <th>No. of Suicide Blasts</th>\n",
       "      <th>Explosive Weight (max)</th>\n",
       "      <th>Hospital Names</th>\n",
       "      <th>Temperature(C)</th>\n",
       "      <th>Temperature(F)</th>\n",
       "    </tr>\n",
       "  </thead>\n",
       "  <tbody>\n",
       "    <tr>\n",
       "      <th>0</th>\n",
       "      <td>Sunday-November 19-1995</td>\n",
       "      <td>25 Jumaada al-THaany 1416 A.H</td>\n",
       "      <td>Holiday</td>\n",
       "      <td>Weekend</td>\n",
       "      <td>NaN</td>\n",
       "      <td>Islamabad</td>\n",
       "      <td>33.7180</td>\n",
       "      <td>73.0718</td>\n",
       "      <td>Capital</td>\n",
       "      <td>Egyptian Embassy</td>\n",
       "      <td>...</td>\n",
       "      <td>NaN</td>\n",
       "      <td>14.0</td>\n",
       "      <td>15.0</td>\n",
       "      <td>NaN</td>\n",
       "      <td>60</td>\n",
       "      <td>2.0</td>\n",
       "      <td>NaN</td>\n",
       "      <td>NaN</td>\n",
       "      <td>15.835</td>\n",
       "      <td>60.503</td>\n",
       "    </tr>\n",
       "    <tr>\n",
       "      <th>1</th>\n",
       "      <td>Monday-November 6-2000</td>\n",
       "      <td>10 SHa`baan 1421 A.H</td>\n",
       "      <td>Working Day</td>\n",
       "      <td>NaN</td>\n",
       "      <td>NaN</td>\n",
       "      <td>Karachi</td>\n",
       "      <td>24.9918</td>\n",
       "      <td>66.9911</td>\n",
       "      <td>Sindh</td>\n",
       "      <td>office of Nawa-e-Waqt</td>\n",
       "      <td>...</td>\n",
       "      <td>NaN</td>\n",
       "      <td>NaN</td>\n",
       "      <td>3.0</td>\n",
       "      <td>NaN</td>\n",
       "      <td>3</td>\n",
       "      <td>1.0</td>\n",
       "      <td>NaN</td>\n",
       "      <td>NaN</td>\n",
       "      <td>23.770</td>\n",
       "      <td>74.786</td>\n",
       "    </tr>\n",
       "  </tbody>\n",
       "</table>\n",
       "<p>2 rows × 25 columns</p>\n",
       "</div>"
      ],
      "text/plain": [
       "                      Date                   Islamic Date Blast Day Type  \\\n",
       "0  Sunday-November 19-1995  25 Jumaada al-THaany 1416 A.H        Holiday   \n",
       "1   Monday-November 6-2000           10 SHa`baan 1421 A.H    Working Day   \n",
       "\n",
       "  Holiday Type Time       City  Latitude Longitude Province  \\\n",
       "0      Weekend  NaN  Islamabad   33.7180   73.0718  Capital   \n",
       "1          NaN  NaN    Karachi   24.9918   66.9911    Sindh   \n",
       "\n",
       "                Location  ... Targeted Sect if any Killed Min Killed Max  \\\n",
       "0       Egyptian Embassy  ...                  NaN       14.0       15.0   \n",
       "1  office of Nawa-e-Waqt  ...                  NaN        NaN        3.0   \n",
       "\n",
       "  Injured Min Injured Max No. of Suicide Blasts  Explosive Weight (max)  \\\n",
       "0         NaN          60                   2.0                     NaN   \n",
       "1         NaN           3                   1.0                     NaN   \n",
       "\n",
       "   Hospital Names  Temperature(C) Temperature(F)  \n",
       "0             NaN          15.835         60.503  \n",
       "1             NaN          23.770         74.786  \n",
       "\n",
       "[2 rows x 25 columns]"
      ]
     },
     "execution_count": 5,
     "metadata": {},
     "output_type": "execute_result"
    }
   ],
   "source": [
    "df.head(2)"
   ]
  },
  {
   "cell_type": "code",
   "execution_count": 210,
   "id": "52a77dd4-8bc4-4e7b-9022-b91f23fda250",
   "metadata": {},
   "outputs": [
    {
     "data": {
      "text/plain": [
       "Date                        84\n",
       "Islamic Date                 0\n",
       "Blast Day Type               0\n",
       "Holiday Type               844\n",
       "Time                       422\n",
       "City                         0\n",
       "Latitude                     0\n",
       "Longitude                    0\n",
       "Province                     0\n",
       "Location                     6\n",
       "Location Category            0\n",
       "Location Sensitivity         0\n",
       "Open/Closed Space            0\n",
       "Influencing Event/Event      0\n",
       "Target Type                  0\n",
       "Targeted Sect if any         6\n",
       "Killed Min                   0\n",
       "Killed Max                   0\n",
       "Injured Min                  0\n",
       "Injured Max                  0\n",
       "No. of Suicide Blasts        0\n",
       "Explosive Weight (max)       0\n",
       "Hospital Names               0\n",
       "Temperature(C)               0\n",
       "Temperature(F)               0\n",
       "Month                       84\n",
       "year                        84\n",
       "dtype: int64"
      ]
     },
     "execution_count": 210,
     "metadata": {},
     "output_type": "execute_result"
    }
   ],
   "source": [
    "df.isnull().sum()"
   ]
  },
  {
   "cell_type": "code",
   "execution_count": 208,
   "id": "cb5a5da1-9c76-4423-8a47-10ea9383d4c6",
   "metadata": {},
   "outputs": [
    {
     "data": {
      "text/plain": [
       "Date                       datetime64[ns]\n",
       "Islamic Date                       object\n",
       "Blast Day Type                     object\n",
       "Holiday Type                       object\n",
       "Time                               object\n",
       "City                               object\n",
       "Latitude                            int32\n",
       "Longitude                           int32\n",
       "Province                           object\n",
       "Location                           object\n",
       "Location Category                  object\n",
       "Location Sensitivity               object\n",
       "Open/Closed Space                  object\n",
       "Influencing Event/Event            object\n",
       "Target Type                        object\n",
       "Targeted Sect if any               object\n",
       "Killed Min                          int32\n",
       "Killed Max                          int32\n",
       "Injured Min                         int32\n",
       "Injured Max                         int32\n",
       "No. of Suicide Blasts               int32\n",
       "Explosive Weight (max)              int32\n",
       "Hospital Names                     object\n",
       "Temperature(C)                      int32\n",
       "Temperature(F)                      int32\n",
       "Month                             float64\n",
       "year                              float64\n",
       "dtype: object"
      ]
     },
     "execution_count": 208,
     "metadata": {},
     "output_type": "execute_result"
    }
   ],
   "source": [
    "df.dtypes"
   ]
  },
  {
   "cell_type": "code",
   "execution_count": 11,
   "id": "f93dfde7-467f-4c9a-8221-654531f9dea4",
   "metadata": {},
   "outputs": [
    {
     "data": {
      "text/plain": [
       "'19 Jumada al-awwal 1438 A.H'"
      ]
     },
     "execution_count": 11,
     "metadata": {},
     "output_type": "execute_result"
    }
   ],
   "source": [
    "mode = df['Islamic Date'].mode()[0]\n",
    "mode"
   ]
  },
  {
   "cell_type": "code",
   "execution_count": 13,
   "id": "fe61c5cd-1034-4a85-9cab-f9a3b18d91c9",
   "metadata": {},
   "outputs": [],
   "source": [
    "df['Islamic Date'].fillna(mode, inplace = True)"
   ]
  },
  {
   "cell_type": "code",
   "execution_count": 17,
   "id": "53b50040-d83c-42d4-b811-f6706c2adffc",
   "metadata": {},
   "outputs": [],
   "source": [
    "df['Blast Day Type'].fillna('Working Day', inplace = True)"
   ]
  },
  {
   "cell_type": "code",
   "execution_count": 15,
   "id": "7c14cbf2-3141-4ee6-be04-6e122f2a1fd3",
   "metadata": {},
   "outputs": [],
   "source": [
    "df['Holiday Type'].fillna('week day', inplace = True)"
   ]
  },
  {
   "cell_type": "code",
   "execution_count": 206,
   "id": "3fc610d7-50df-49f9-a856-79f5bd05f08f",
   "metadata": {},
   "outputs": [],
   "source": [
    "df['Open/Closed Space'].ffill(inplace = True)"
   ]
  },
  {
   "cell_type": "code",
   "execution_count": 23,
   "id": "e6c6de98-bd15-4389-b904-9de82b52f154",
   "metadata": {},
   "outputs": [],
   "source": [
    "df['Influencing Event/Event'].bfill(inplace = True)"
   ]
  },
  {
   "cell_type": "code",
   "execution_count": 119,
   "id": "deb64954-d3e9-4bb1-bd5a-6b67919066bc",
   "metadata": {},
   "outputs": [],
   "source": [
    "\n",
    "df['Injured Max'] = pd.to_numeric(df['Injured Max'], errors='coerce')\n",
    "\n",
    "df['Longitude'] = pd.to_numeric(df['Longitude'], errors='coerce')\n",
    "\n",
    "df['Explosive Weight (max)'] = pd.to_numeric(df['Explosive Weight (max)'], errors='coerce')\n"
   ]
  },
  {
   "cell_type": "code",
   "execution_count": 27,
   "id": "5fffbc28-13cd-4942-bf14-1da5ec5cfa74",
   "metadata": {},
   "outputs": [],
   "source": [
    "df['Targeted Sect if any'].bfill(inplace = True)"
   ]
  },
  {
   "cell_type": "code",
   "execution_count": 121,
   "id": "81988325-c314-466d-b665-44be9db0d780",
   "metadata": {},
   "outputs": [
    {
     "data": {
      "text/plain": [
       "Index(['Latitude', 'Longitude', 'Killed Min', 'Killed Max', 'Injured Min',\n",
       "       'Injured Max', 'No. of Suicide Blasts', 'Explosive Weight (max)',\n",
       "       'Temperature(C)', 'Temperature(F)'],\n",
       "      dtype='object')"
      ]
     },
     "execution_count": 121,
     "metadata": {},
     "output_type": "execute_result"
    }
   ],
   "source": [
    "numeric_column = df.select_dtypes(include=['float64','int32']).columns\n",
    "numeric_column"
   ]
  },
  {
   "cell_type": "code",
   "execution_count": 125,
   "id": "6acabb04-6f1d-4d1b-a5ec-d0a47d8f1de7",
   "metadata": {},
   "outputs": [
    {
     "data": {
      "text/plain": [
       "Index(['Explosive Weight (max)'], dtype='object')"
      ]
     },
     "execution_count": 125,
     "metadata": {},
     "output_type": "execute_result"
    }
   ],
   "source": [
    "num_col = df.select_dtypes(include = ['float64']).columns\n",
    "num_col"
   ]
  },
  {
   "cell_type": "code",
   "execution_count": 127,
   "id": "818094cd-cb81-43ee-8d6d-b2319f1ce582",
   "metadata": {},
   "outputs": [],
   "source": [
    "for j in num_col:\n",
    "    df[j]= df[j].fillna(0).astype(int)\n",
    "    df[j]"
   ]
  },
  {
   "cell_type": "code",
   "execution_count": 35,
   "id": "ae783398-7aba-4225-b181-073091b4a811",
   "metadata": {},
   "outputs": [],
   "source": [
    "for i in numeric_column:\n",
    "    mean = df[i].mean()\n",
    "    df[i].fillna(mean, inplace = True)"
   ]
  },
  {
   "cell_type": "code",
   "execution_count": 37,
   "id": "754844fc-713c-4436-abd1-1b5b26bdda5d",
   "metadata": {},
   "outputs": [],
   "source": [
    "df['Hospital Names'].bfill(inplace = True)"
   ]
  },
  {
   "cell_type": "code",
   "execution_count": 35,
   "id": "549d9e09-a777-4b20-baa2-2c50ceda9475",
   "metadata": {},
   "outputs": [],
   "source": [
    "df['Location'].bfill(inplace = True)"
   ]
  },
  {
   "cell_type": "code",
   "execution_count": 42,
   "id": "ae1f99a3-e145-486d-8776-b103f81586c8",
   "metadata": {},
   "outputs": [
    {
     "data": {
      "text/html": [
       "<div>\n",
       "<style scoped>\n",
       "    .dataframe tbody tr th:only-of-type {\n",
       "        vertical-align: middle;\n",
       "    }\n",
       "\n",
       "    .dataframe tbody tr th {\n",
       "        vertical-align: top;\n",
       "    }\n",
       "\n",
       "    .dataframe thead th {\n",
       "        text-align: right;\n",
       "    }\n",
       "</style>\n",
       "<table border=\"1\" class=\"dataframe\">\n",
       "  <thead>\n",
       "    <tr style=\"text-align: right;\">\n",
       "      <th></th>\n",
       "      <th>Date</th>\n",
       "      <th>Islamic Date</th>\n",
       "      <th>Blast Day Type</th>\n",
       "      <th>Holiday Type</th>\n",
       "      <th>Time</th>\n",
       "      <th>City</th>\n",
       "      <th>Latitude</th>\n",
       "      <th>Longitude</th>\n",
       "      <th>Province</th>\n",
       "      <th>Location</th>\n",
       "      <th>...</th>\n",
       "      <th>Targeted Sect if any</th>\n",
       "      <th>Killed Min</th>\n",
       "      <th>Killed Max</th>\n",
       "      <th>Injured Min</th>\n",
       "      <th>Injured Max</th>\n",
       "      <th>No. of Suicide Blasts</th>\n",
       "      <th>Explosive Weight (max)</th>\n",
       "      <th>Hospital Names</th>\n",
       "      <th>Temperature(C)</th>\n",
       "      <th>Temperature(F)</th>\n",
       "    </tr>\n",
       "  </thead>\n",
       "  <tbody>\n",
       "    <tr>\n",
       "      <th>0</th>\n",
       "      <td>Sunday-November 19-1995</td>\n",
       "      <td>25 Jumaada al-THaany 1416 A.H</td>\n",
       "      <td>Holiday</td>\n",
       "      <td>Weekend</td>\n",
       "      <td>NaN</td>\n",
       "      <td>Islamabad</td>\n",
       "      <td>33</td>\n",
       "      <td>73</td>\n",
       "      <td>Capital</td>\n",
       "      <td>Egyptian Embassy</td>\n",
       "      <td>...</td>\n",
       "      <td>Christian</td>\n",
       "      <td>14</td>\n",
       "      <td>15</td>\n",
       "      <td>0</td>\n",
       "      <td>60</td>\n",
       "      <td>2</td>\n",
       "      <td>NaN</td>\n",
       "      <td>1.Jinnah Postgraduate Medical Center 2. Civil ...</td>\n",
       "      <td>15</td>\n",
       "      <td>60</td>\n",
       "    </tr>\n",
       "    <tr>\n",
       "      <th>1</th>\n",
       "      <td>Monday-November 6-2000</td>\n",
       "      <td>10 SHa`baan 1421 A.H</td>\n",
       "      <td>Working Day</td>\n",
       "      <td>NaN</td>\n",
       "      <td>NaN</td>\n",
       "      <td>Karachi</td>\n",
       "      <td>24</td>\n",
       "      <td>66</td>\n",
       "      <td>Sindh</td>\n",
       "      <td>office of Nawa-e-Waqt</td>\n",
       "      <td>...</td>\n",
       "      <td>Christian</td>\n",
       "      <td>0</td>\n",
       "      <td>3</td>\n",
       "      <td>0</td>\n",
       "      <td>3</td>\n",
       "      <td>1</td>\n",
       "      <td>NaN</td>\n",
       "      <td>1.Jinnah Postgraduate Medical Center 2. Civil ...</td>\n",
       "      <td>23</td>\n",
       "      <td>74</td>\n",
       "    </tr>\n",
       "    <tr>\n",
       "      <th>2</th>\n",
       "      <td>Wednesday-May 8-2002</td>\n",
       "      <td>25 safar 1423 A.H</td>\n",
       "      <td>Working Day</td>\n",
       "      <td>NaN</td>\n",
       "      <td>7:45 AM</td>\n",
       "      <td>Karachi</td>\n",
       "      <td>24</td>\n",
       "      <td>66</td>\n",
       "      <td>Sindh</td>\n",
       "      <td>Pakistan Navy bus Parked outside Five Star She...</td>\n",
       "      <td>...</td>\n",
       "      <td>Christian</td>\n",
       "      <td>13</td>\n",
       "      <td>15</td>\n",
       "      <td>20</td>\n",
       "      <td>40</td>\n",
       "      <td>1</td>\n",
       "      <td>2.5 Kg</td>\n",
       "      <td>1.Jinnah Postgraduate Medical Center 2. Civil ...</td>\n",
       "      <td>31</td>\n",
       "      <td>88</td>\n",
       "    </tr>\n",
       "    <tr>\n",
       "      <th>3</th>\n",
       "      <td>Friday-June 14-2002</td>\n",
       "      <td>3 Raby` al-THaany 1423 A.H</td>\n",
       "      <td>Working Day</td>\n",
       "      <td>NaN</td>\n",
       "      <td>11:10:00 AM</td>\n",
       "      <td>Karachi</td>\n",
       "      <td>24</td>\n",
       "      <td>66</td>\n",
       "      <td>Sindh</td>\n",
       "      <td>US Consulate Civil Lines Area</td>\n",
       "      <td>...</td>\n",
       "      <td>Christian</td>\n",
       "      <td>0</td>\n",
       "      <td>12</td>\n",
       "      <td>0</td>\n",
       "      <td>51</td>\n",
       "      <td>1</td>\n",
       "      <td>NaN</td>\n",
       "      <td>1.CMH Quetta \\n2.Civil Hospital 3. Boland Medi...</td>\n",
       "      <td>31</td>\n",
       "      <td>88</td>\n",
       "    </tr>\n",
       "  </tbody>\n",
       "</table>\n",
       "<p>4 rows × 25 columns</p>\n",
       "</div>"
      ],
      "text/plain": [
       "                      Date                   Islamic Date Blast Day Type  \\\n",
       "0  Sunday-November 19-1995  25 Jumaada al-THaany 1416 A.H        Holiday   \n",
       "1   Monday-November 6-2000           10 SHa`baan 1421 A.H    Working Day   \n",
       "2     Wednesday-May 8-2002              25 safar 1423 A.H    Working Day   \n",
       "3      Friday-June 14-2002     3 Raby` al-THaany 1423 A.H    Working Day   \n",
       "\n",
       "  Holiday Type         Time       City  Latitude  Longitude Province  \\\n",
       "0      Weekend          NaN  Islamabad        33         73  Capital   \n",
       "1          NaN          NaN    Karachi        24         66    Sindh   \n",
       "2          NaN      7:45 AM   Karachi         24         66    Sindh   \n",
       "3          NaN  11:10:00 AM    Karachi        24         66    Sindh   \n",
       "\n",
       "                                            Location  ...  \\\n",
       "0                                   Egyptian Embassy  ...   \n",
       "1                              office of Nawa-e-Waqt  ...   \n",
       "2  Pakistan Navy bus Parked outside Five Star She...  ...   \n",
       "3                     US Consulate Civil Lines Area   ...   \n",
       "\n",
       "  Targeted Sect if any Killed Min Killed Max Injured Min Injured Max  \\\n",
       "0            Christian         14         15           0          60   \n",
       "1            Christian          0          3           0           3   \n",
       "2            Christian         13         15          20          40   \n",
       "3            Christian          0         12           0          51   \n",
       "\n",
       "  No. of Suicide Blasts  Explosive Weight (max)  \\\n",
       "0                     2                     NaN   \n",
       "1                     1                     NaN   \n",
       "2                     1                  2.5 Kg   \n",
       "3                     1                     NaN   \n",
       "\n",
       "                                      Hospital Names  Temperature(C)  \\\n",
       "0  1.Jinnah Postgraduate Medical Center 2. Civil ...              15   \n",
       "1  1.Jinnah Postgraduate Medical Center 2. Civil ...              23   \n",
       "2  1.Jinnah Postgraduate Medical Center 2. Civil ...              31   \n",
       "3  1.CMH Quetta \\n2.Civil Hospital 3. Boland Medi...              31   \n",
       "\n",
       "   Temperature(F)  \n",
       "0              60  \n",
       "1              74  \n",
       "2              88  \n",
       "3              88  \n",
       "\n",
       "[4 rows x 25 columns]"
      ]
     },
     "execution_count": 42,
     "metadata": {},
     "output_type": "execute_result"
    }
   ],
   "source": [
    "df.head(4)"
   ]
  },
  {
   "cell_type": "code",
   "execution_count": 39,
   "id": "df6e46db-1e37-40d3-a11e-ab2b0cdba28c",
   "metadata": {},
   "outputs": [
    {
     "data": {
      "text/plain": [
       "988"
      ]
     },
     "execution_count": 39,
     "metadata": {},
     "output_type": "execute_result"
    }
   ],
   "source": [
    "total_attack = df.shape[0]\n",
    "total_attack"
   ]
  },
  {
   "cell_type": "markdown",
   "id": "c81f7baa-16d0-4e99-a7a9-e994c8f4f599",
   "metadata": {},
   "source": [
    "# 2. Total Number of Casualties (Min/Max)"
   ]
  },
  {
   "cell_type": "code",
   "execution_count": 46,
   "id": "dbb67958-0058-42a9-8804-0ecb093f657c",
   "metadata": {},
   "outputs": [
    {
     "data": {
      "text/plain": [
       "10294"
      ]
     },
     "execution_count": 46,
     "metadata": {},
     "output_type": "execute_result"
    }
   ],
   "source": [
    "total_min_killed = df['Killed Min'].sum()\n",
    "total_min_killed"
   ]
  },
  {
   "cell_type": "code",
   "execution_count": 48,
   "id": "8da94e6f-2385-4bae-9cb9-a586eff697b5",
   "metadata": {},
   "outputs": [
    {
     "data": {
      "text/plain": [
       "15062"
      ]
     },
     "execution_count": 48,
     "metadata": {},
     "output_type": "execute_result"
    }
   ],
   "source": [
    "total_Killed_Max = df['Killed Max'].sum()\n",
    "total_Killed_Max"
   ]
  },
  {
   "cell_type": "code",
   "execution_count": 50,
   "id": "0109cd19-b275-4b08-948f-b85962b744d0",
   "metadata": {},
   "outputs": [
    {
     "data": {
      "text/plain": [
       "22868"
      ]
     },
     "execution_count": 50,
     "metadata": {},
     "output_type": "execute_result"
    }
   ],
   "source": [
    "total_Injured_Min = df['Injured Min'].sum()\n",
    "total_Injured_Min"
   ]
  },
  {
   "cell_type": "code",
   "execution_count": 54,
   "id": "5b0ad720-b6df-4590-aab8-acab3d3b6f46",
   "metadata": {},
   "outputs": [
    {
     "data": {
      "text/plain": [
       "36322"
      ]
     },
     "execution_count": 54,
     "metadata": {},
     "output_type": "execute_result"
    }
   ],
   "source": [
    "total_Injured_Max = df['Injured Max'].sum()\n",
    "total_Injured_Max"
   ]
  },
  {
   "cell_type": "markdown",
   "id": "4e637fe9-bfca-44c8-ae81-e7b0fb1bf2aa",
   "metadata": {},
   "source": [
    "#  Average Casualties per Attack"
   ]
  },
  {
   "cell_type": "code",
   "execution_count": 61,
   "id": "9cfbeb04-0594-4751-a0c5-5d007c8b9704",
   "metadata": {},
   "outputs": [
    {
     "data": {
      "text/plain": [
       "10317.145748987854"
      ]
     },
     "execution_count": 61,
     "metadata": {},
     "output_type": "execute_result"
    }
   ],
   "source": [
    "average_casualty_per_attack_min = total_min_killed  + total_Injured_Min / total_attack\n",
    "average_casualty_per_attack_min"
   ]
  },
  {
   "cell_type": "code",
   "execution_count": 65,
   "id": "ecf2b020-420f-438f-a7a6-d0052a8c609f",
   "metadata": {},
   "outputs": [
    {
     "data": {
      "text/plain": [
       "15098.763157894737"
      ]
     },
     "execution_count": 65,
     "metadata": {},
     "output_type": "execute_result"
    }
   ],
   "source": [
    "average_casualty_per_attack_max= total_Killed_Max+ total_Injured_Max/total_attack\n",
    "average_casualty_per_attack_max"
   ]
  },
  {
   "cell_type": "markdown",
   "id": "5ec36325-83a8-44bf-8be0-c5d54f9681cc",
   "metadata": {},
   "source": [
    "# 4. Deadliest Province/City"
   ]
  },
  {
   "cell_type": "code",
   "execution_count": 84,
   "id": "e26dd65f-8e10-4d79-93f4-edbd71db9f31",
   "metadata": {},
   "outputs": [
    {
     "data": {
      "text/plain": [
       "Province\n",
       "AJK              20\n",
       "Balochistan     563\n",
       "Baluchistan    1002\n",
       "Capital         278\n",
       "FATA           1120\n",
       "Fata             80\n",
       "KPK            4445\n",
       "Punjab         1894\n",
       "Sindh           892\n",
       "Name: Killed Min, dtype: int32"
      ]
     },
     "execution_count": 84,
     "metadata": {},
     "output_type": "execute_result"
    }
   ],
   "source": [
    "kiled_min_in_province = df.groupby('Province')['Killed Min'].sum()\n",
    "kiled_min_in_province "
   ]
  },
  {
   "cell_type": "code",
   "execution_count": 113,
   "id": "cbb96080-6db5-4af6-9d06-6ef9607f6600",
   "metadata": {},
   "outputs": [
    {
     "data": {
      "text/plain": [
       "Province\n",
       "AJK             15\n",
       "Balochistan     85\n",
       "Baluchistan     93\n",
       "Capital         60\n",
       "FATA            85\n",
       "Fata            50\n",
       "KPK            148\n",
       "Punjab         100\n",
       "Sindh          145\n",
       "Name: Killed Max, dtype: int32"
      ]
     },
     "execution_count": 113,
     "metadata": {},
     "output_type": "execute_result"
    }
   ],
   "source": [
    "kiled_max_in_province = df.groupby('Province')['Killed Max'].max()\n",
    "kiled_max_in_province"
   ]
  },
  {
   "cell_type": "code",
   "execution_count": 107,
   "id": "0fd83c0d-6a72-4fb2-bf98-f29e12aa90a1",
   "metadata": {},
   "outputs": [
    {
     "data": {
      "text/plain": [
       "City\n",
       "ATTOCK           19\n",
       "Attock            9\n",
       "Bajaur Agency    47\n",
       "Bannu            20\n",
       "Bhakkar          26\n",
       "Buner            37\n",
       "Chakwal          27\n",
       "Name: Killed Max, dtype: int32"
      ]
     },
     "execution_count": 107,
     "metadata": {},
     "output_type": "execute_result"
    }
   ],
   "source": [
    "kiled_max_in_city = df.groupby('City')['Killed Max'].max()\n",
    "kiled_max_in_city.head(7)"
   ]
  },
  {
   "cell_type": "code",
   "execution_count": 109,
   "id": "b7d8eadf-4035-47bd-aa65-d0187eddc56c",
   "metadata": {},
   "outputs": [
    {
     "data": {
      "text/plain": [
       "City\n",
       "ATTOCK           16\n",
       "Attock            8\n",
       "Bajaur Agency    42\n",
       "Bannu            18\n",
       "Bhakkar          22\n",
       "Buner            34\n",
       "Chakwal          22\n",
       "Name: Killed Min, dtype: int32"
      ]
     },
     "execution_count": 109,
     "metadata": {},
     "output_type": "execute_result"
    }
   ],
   "source": [
    "kiled_min_in_city = df.groupby('City')['Killed Min'].max()\n",
    "kiled_min_in_city.head(7)"
   ]
  },
  {
   "cell_type": "markdown",
   "id": "ac97a8be-d562-4cb8-af41-abf061df6a7b",
   "metadata": {},
   "source": [
    "# 5. Attack Frequency by Province/City"
   ]
  },
  {
   "cell_type": "code",
   "execution_count": 78,
   "id": "4b75ba0b-152e-4e1f-9a2d-84fe8b0b2903",
   "metadata": {},
   "outputs": [
    {
     "data": {
      "text/plain": [
       "Province\n",
       "KPK            501\n",
       "FATA           140\n",
       "Punjab         128\n",
       "Sindh           70\n",
       "Baluchistan     62\n",
       "Capital         40\n",
       "Balochistan     29\n",
       "AJK             12\n",
       "Fata             6\n",
       "Name: count, dtype: int64"
      ]
     },
     "execution_count": 78,
     "metadata": {},
     "output_type": "execute_result"
    }
   ],
   "source": [
    "df['Province'].value_counts()"
   ]
  },
  {
   "cell_type": "code",
   "execution_count": 104,
   "id": "7827adcf-0ae8-4c20-8be6-336e42278a86",
   "metadata": {},
   "outputs": [
    {
     "data": {
      "text/plain": [
       "City\n",
       "Peshawar    143\n",
       "Quetta       67\n",
       "Swat         50\n",
       "Bannu        44\n",
       "Karachi      42\n",
       "Name: count, dtype: int64"
      ]
     },
     "execution_count": 104,
     "metadata": {},
     "output_type": "execute_result"
    }
   ],
   "source": [
    "df['City'].value_counts().head(5)"
   ]
  },
  {
   "cell_type": "markdown",
   "id": "1601ebc5-d9f1-44e3-b3d3-699b5f9567e4",
   "metadata": {},
   "source": [
    "# 6. Explosive Weight Analysis"
   ]
  },
  {
   "cell_type": "code",
   "execution_count": 131,
   "id": "8d29c6b9-379d-4481-b2f8-37e133507999",
   "metadata": {},
   "outputs": [
    {
     "data": {
      "text/plain": [
       "690"
      ]
     },
     "execution_count": 131,
     "metadata": {},
     "output_type": "execute_result"
    }
   ],
   "source": [
    "Explosive_Weight = df['Explosive Weight (max)'].sum(skipna = True)\n",
    "Explosive_Weight "
   ]
  },
  {
   "cell_type": "code",
   "execution_count": 133,
   "id": "bb8cf440-a490-4565-80db-e3cbabd38783",
   "metadata": {},
   "outputs": [
    {
     "data": {
      "text/plain": [
       "0.6983805668016194"
      ]
     },
     "execution_count": 133,
     "metadata": {},
     "output_type": "execute_result"
    }
   ],
   "source": [
    "Average_Explosive_Weight = Explosive_Weight/total_attack\n",
    "Average_Explosive_Weight "
   ]
  },
  {
   "cell_type": "markdown",
   "id": "079737a3-f455-4729-a9c9-713f9f2a8e5a",
   "metadata": {},
   "source": [
    "# 7. Trends over Time (Monthly/Yearly)"
   ]
  },
  {
   "cell_type": "code",
   "execution_count": 139,
   "id": "36efd85d-1c3b-4b43-89d8-96f76dfd9a9e",
   "metadata": {},
   "outputs": [
    {
     "data": {
      "text/plain": [
       "0     1995-11-19\n",
       "1     2000-11-06\n",
       "2     2002-05-08\n",
       "3     2002-06-14\n",
       "4     2003-07-04\n",
       "         ...    \n",
       "983          NaT\n",
       "984          NaT\n",
       "985          NaT\n",
       "986          NaT\n",
       "987          NaT\n",
       "Name: Date, Length: 988, dtype: datetime64[ns]"
      ]
     },
     "execution_count": 139,
     "metadata": {},
     "output_type": "execute_result"
    }
   ],
   "source": [
    "df['Date'] = pd.to_datetime(df['Date'], errors='coerce')\n",
    "df['Date']"
   ]
  },
  {
   "cell_type": "code",
   "execution_count": 143,
   "id": "9d7c2feb-228b-4a87-b46f-a6069d226179",
   "metadata": {},
   "outputs": [
    {
     "data": {
      "text/plain": [
       "0      11.0\n",
       "1      11.0\n",
       "2       5.0\n",
       "3       6.0\n",
       "4       7.0\n",
       "       ... \n",
       "983     NaN\n",
       "984     NaN\n",
       "985     NaN\n",
       "986     NaN\n",
       "987     NaN\n",
       "Name: Month, Length: 988, dtype: float64"
      ]
     },
     "execution_count": 143,
     "metadata": {},
     "output_type": "execute_result"
    }
   ],
   "source": [
    "df['Month'] = df['Date'].dt.month\n",
    "df['Month'] "
   ]
  },
  {
   "cell_type": "code",
   "execution_count": 151,
   "id": "9bee5713-d44d-4259-a03b-27cc1188abf1",
   "metadata": {},
   "outputs": [
    {
     "data": {
      "text/plain": [
       "0      1995.0\n",
       "1      2000.0\n",
       "2      2002.0\n",
       "3      2002.0\n",
       "4      2003.0\n",
       "        ...  \n",
       "983       NaN\n",
       "984       NaN\n",
       "985       NaN\n",
       "986       NaN\n",
       "987       NaN\n",
       "Name: year, Length: 988, dtype: float64"
      ]
     },
     "execution_count": 151,
     "metadata": {},
     "output_type": "execute_result"
    }
   ],
   "source": [
    "df['year'] = df['Date'].dt.year\n",
    "df['year'] "
   ]
  },
  {
   "cell_type": "code",
   "execution_count": 153,
   "id": "a50e7fdb-edf1-4645-ae8d-4911f5d2a84c",
   "metadata": {},
   "outputs": [
    {
     "data": {
      "text/html": [
       "<div>\n",
       "<style scoped>\n",
       "    .dataframe tbody tr th:only-of-type {\n",
       "        vertical-align: middle;\n",
       "    }\n",
       "\n",
       "    .dataframe tbody tr th {\n",
       "        vertical-align: top;\n",
       "    }\n",
       "\n",
       "    .dataframe thead th {\n",
       "        text-align: right;\n",
       "    }\n",
       "</style>\n",
       "<table border=\"1\" class=\"dataframe\">\n",
       "  <thead>\n",
       "    <tr style=\"text-align: right;\">\n",
       "      <th></th>\n",
       "      <th>Date</th>\n",
       "      <th>Month</th>\n",
       "      <th>year</th>\n",
       "    </tr>\n",
       "  </thead>\n",
       "  <tbody>\n",
       "    <tr>\n",
       "      <th>0</th>\n",
       "      <td>1995-11-19</td>\n",
       "      <td>11.0</td>\n",
       "      <td>1995.0</td>\n",
       "    </tr>\n",
       "    <tr>\n",
       "      <th>1</th>\n",
       "      <td>2000-11-06</td>\n",
       "      <td>11.0</td>\n",
       "      <td>2000.0</td>\n",
       "    </tr>\n",
       "    <tr>\n",
       "      <th>2</th>\n",
       "      <td>2002-05-08</td>\n",
       "      <td>5.0</td>\n",
       "      <td>2002.0</td>\n",
       "    </tr>\n",
       "    <tr>\n",
       "      <th>3</th>\n",
       "      <td>2002-06-14</td>\n",
       "      <td>6.0</td>\n",
       "      <td>2002.0</td>\n",
       "    </tr>\n",
       "    <tr>\n",
       "      <th>4</th>\n",
       "      <td>2003-07-04</td>\n",
       "      <td>7.0</td>\n",
       "      <td>2003.0</td>\n",
       "    </tr>\n",
       "  </tbody>\n",
       "</table>\n",
       "</div>"
      ],
      "text/plain": [
       "        Date  Month    year\n",
       "0 1995-11-19   11.0  1995.0\n",
       "1 2000-11-06   11.0  2000.0\n",
       "2 2002-05-08    5.0  2002.0\n",
       "3 2002-06-14    6.0  2002.0\n",
       "4 2003-07-04    7.0  2003.0"
      ]
     },
     "execution_count": 153,
     "metadata": {},
     "output_type": "execute_result"
    }
   ],
   "source": [
    "df[['Date', 'Month', 'year']].head()"
   ]
  },
  {
   "cell_type": "code",
   "execution_count": 167,
   "id": "23132696-13d5-4a5e-8efb-833232c99a9d",
   "metadata": {},
   "outputs": [
    {
     "data": {
      "text/plain": [
       "Date\n",
       "2009-12    26\n",
       "2007-07    26\n",
       "2009-11    20\n",
       "2007-12    18\n",
       "2008-10    18\n",
       "           ..\n",
       "2011-12     2\n",
       "2012-04     2\n",
       "2012-05     2\n",
       "2012-07     2\n",
       "2016-05     2\n",
       "Freq: M, Name: count, Length: 118, dtype: int64"
      ]
     },
     "execution_count": 167,
     "metadata": {},
     "output_type": "execute_result"
    }
   ],
   "source": [
    "monthly_attack = df['Date'].dt.to_period('M').value_counts()\n",
    "monthly_attack"
   ]
  },
  {
   "cell_type": "code",
   "execution_count": 169,
   "id": "885d4896-e05d-468b-9bdb-d58f9a9e2bcf",
   "metadata": {},
   "outputs": [
    {
     "data": {
      "text/plain": [
       "Date\n",
       "2009.0    180\n",
       "2008.0    122\n",
       "2007.0    114\n",
       "2010.0    114\n",
       "2011.0     88\n",
       "2013.0     82\n",
       "2012.0     64\n",
       "2014.0     54\n",
       "2015.0     30\n",
       "2006.0     18\n",
       "2004.0     16\n",
       "2005.0      8\n",
       "2002.0      4\n",
       "2003.0      4\n",
       "1995.0      2\n",
       "2000.0      2\n",
       "2016.0      2\n",
       "Name: count, dtype: int64"
      ]
     },
     "execution_count": 169,
     "metadata": {},
     "output_type": "execute_result"
    }
   ],
   "source": [
    "yearly_attack = df['Date'].dt.year.value_counts()\n",
    "yearly_attack"
   ]
  },
  {
   "cell_type": "markdown",
   "id": "61f34c8e-cc53-4323-9dee-84bb7eff5c85",
   "metadata": {},
   "source": [
    "# 8. Blast Type and Impact"
   ]
  },
  {
   "cell_type": "code",
   "execution_count": 178,
   "id": "e1b589d4-1b19-4623-b2dd-9910f771ad60",
   "metadata": {},
   "outputs": [
    {
     "data": {
      "text/plain": [
       "Blast Day Type\n",
       "Working Day    822\n",
       "Holiday        156\n",
       "Weekend         10\n",
       "Name: count, dtype: int64"
      ]
     },
     "execution_count": 178,
     "metadata": {},
     "output_type": "execute_result"
    }
   ],
   "source": [
    "Blast_type = df['Blast Day Type'].value_counts()\n",
    "Blast_type"
   ]
  },
  {
   "cell_type": "code",
   "execution_count": 182,
   "id": "02a83de4-5bc1-47b3-899e-b5361441f3d4",
   "metadata": {},
   "outputs": [
    {
     "data": {
      "text/plain": [
       "Blast Day Type\n",
       "Holiday         2438\n",
       "Weekend          150\n",
       "Working Day    12474\n",
       "Name: Killed Max, dtype: int32"
      ]
     },
     "execution_count": 182,
     "metadata": {},
     "output_type": "execute_result"
    }
   ],
   "source": [
    "impact_Blast_type = df.groupby('Blast Day Type')['Killed Max'].sum()\n",
    "impact_Blast_type"
   ]
  },
  {
   "cell_type": "code",
   "execution_count": 186,
   "id": "be409da5-7d32-4d0a-92a1-5f9349435b4b",
   "metadata": {},
   "outputs": [
    {
     "data": {
      "text/plain": [
       "Blast Day Type\n",
       "Holiday         5576\n",
       "Weekend          320\n",
       "Working Day    30426\n",
       "Name: Injured Max, dtype: int32"
      ]
     },
     "execution_count": 186,
     "metadata": {},
     "output_type": "execute_result"
    }
   ],
   "source": [
    "impact_Blast_type_max = df.groupby('Blast Day Type')['Injured Max'].sum()\n",
    "impact_Blast_type_max"
   ]
  },
  {
   "cell_type": "markdown",
   "id": "a8a8824b-3a9b-4473-aab1-2360f8aea52a",
   "metadata": {},
   "source": [
    "# 9. Day of the Week Analysis"
   ]
  },
  {
   "cell_type": "code",
   "execution_count": 192,
   "id": "f2c9e13f-4601-4358-8a82-e2f3fb4eec8b",
   "metadata": {},
   "outputs": [
    {
     "data": {
      "text/plain": [
       "Date\n",
       "Thursday     164\n",
       "Friday       162\n",
       "Monday       160\n",
       "Saturday     130\n",
       "Tuesday      106\n",
       "Sunday        92\n",
       "Wednesday     90\n",
       "Name: count, dtype: int64"
      ]
     },
     "execution_count": 192,
     "metadata": {},
     "output_type": "execute_result"
    }
   ],
   "source": [
    "day_attack_frequency = df['Date'].dt.day_name().value_counts()\n",
    "day_attack_frequency"
   ]
  },
  {
   "cell_type": "markdown",
   "id": "118fbb29-8cc7-41cc-95fa-c45d6b8bcefa",
   "metadata": {},
   "source": [
    "# 10. Casualty Ratio (Killed to Injured)"
   ]
  },
  {
   "cell_type": "code",
   "execution_count": 202,
   "id": "d8e64718-0050-44e7-b05b-20f76f7acfbd",
   "metadata": {},
   "outputs": [
    {
     "data": {
      "text/plain": [
       "41.467980838059574"
      ]
     },
     "execution_count": 202,
     "metadata": {},
     "output_type": "execute_result"
    }
   ],
   "source": [
    "ratio_of_max = (total_Killed_Max/total_Injured_Max)*100\n",
    "ratio_of_max"
   ]
  },
  {
   "cell_type": "code",
   "execution_count": 200,
   "id": "d33fad9f-9d51-4730-8620-2c9352cde4bd",
   "metadata": {},
   "outputs": [
    {
     "data": {
      "text/plain": [
       "45.01486793772958"
      ]
     },
     "execution_count": 200,
     "metadata": {},
     "output_type": "execute_result"
    }
   ],
   "source": [
    "ratio_of_min =  (total_min_killed/total_Injured_Min)*100\n",
    "ratio_of_min"
   ]
  },
  {
   "cell_type": "markdown",
   "id": "50c09eff-8220-4cc0-8f42-aeef313f189a",
   "metadata": {},
   "source": [
    "# 11. Most Frequent Time of Day for Attacks"
   ]
  },
  {
   "cell_type": "code",
   "execution_count": 246,
   "id": "f1bd10ca-8783-484f-a5c9-d5005b797be5",
   "metadata": {},
   "outputs": [
    {
     "data": {
      "text/plain": [
       "186"
      ]
     },
     "execution_count": 246,
     "metadata": {},
     "output_type": "execute_result"
    }
   ],
   "source": [
    "time_of_day = df['Time'].dropna()\n",
    "morning_count = time_of_day.str.contains('AM').sum()\n",
    "morning_count \n"
   ]
  },
  {
   "cell_type": "code",
   "execution_count": 240,
   "id": "969cd486-f90f-48ab-8ecd-079046b2a2f8",
   "metadata": {},
   "outputs": [
    {
     "data": {
      "text/plain": [
       "203"
      ]
     },
     "execution_count": 240,
     "metadata": {},
     "output_type": "execute_result"
    }
   ],
   "source": [
    "afternoon_count = time_of_day.str.contains('PM').sum() \n",
    "afternoon_count"
   ]
  },
  {
   "cell_type": "markdown",
   "id": "4d4562ff-85ca-4fc6-86c6-10057123060e",
   "metadata": {},
   "source": [
    "# 12. Average Number of Suicide Blasts per Attack"
   ]
  },
  {
   "cell_type": "code",
   "execution_count": 222,
   "id": "c4d18bd5-c2ce-4dc2-8bc3-2abd0bde6a8b",
   "metadata": {},
   "outputs": [
    {
     "data": {
      "text/plain": [
       "0      0.202429\n",
       "1      0.101215\n",
       "2      0.101215\n",
       "3      0.101215\n",
       "4      0.101215\n",
       "         ...   \n",
       "983    0.101215\n",
       "984    0.101215\n",
       "985    0.101215\n",
       "986    0.101215\n",
       "987    0.101215\n",
       "Name: No. of Suicide Blasts, Length: 988, dtype: float64"
      ]
     },
     "execution_count": 222,
     "metadata": {},
     "output_type": "execute_result"
    }
   ],
   "source": [
    "Average_Number_of_Suicide_Blasts = (df['No. of Suicide Blasts'] /df.shape[0])*100\n",
    "Average_Number_of_Suicide_Blasts"
   ]
  },
  {
   "cell_type": "markdown",
   "id": "ad08a7f3-89c8-49f4-9c61-76306f00d89a",
   "metadata": {},
   "source": [
    "# 13. Most Common Location Category"
   ]
  },
  {
   "cell_type": "code",
   "execution_count": 232,
   "id": "60db58e0-a98a-4cc0-8c65-75eaef89f9ef",
   "metadata": {},
   "outputs": [
    {
     "data": {
      "text/plain": [
       "Location Category\n",
       "Police         182\n",
       "Mobile         140\n",
       "Military       139\n",
       "Religious      114\n",
       "Market          80\n",
       "Unknown         70\n",
       "Park/Ground     64\n",
       "Residence       50\n",
       "Name: count, dtype: int64"
      ]
     },
     "execution_count": 232,
     "metadata": {},
     "output_type": "execute_result"
    }
   ],
   "source": [
    "Most_Common_Location_Category = df['Location Category'].value_counts()\n",
    "Most_Common_Location_Category.head(8)"
   ]
  },
  {
   "cell_type": "code",
   "execution_count": null,
   "id": "39da2be6-3d1e-4e6c-9b06-70066e7bca1b",
   "metadata": {},
   "outputs": [],
   "source": []
  }
 ],
 "metadata": {
  "kernelspec": {
   "display_name": "Python 3 (ipykernel)",
   "language": "python",
   "name": "python3"
  },
  "language_info": {
   "codemirror_mode": {
    "name": "ipython",
    "version": 3
   },
   "file_extension": ".py",
   "mimetype": "text/x-python",
   "name": "python",
   "nbconvert_exporter": "python",
   "pygments_lexer": "ipython3",
   "version": "3.11.5"
  }
 },
 "nbformat": 4,
 "nbformat_minor": 5
}
